{
 "metadata": {
  "name": "",
  "signature": "sha256:04b5d16c600b3077d9ecff4933f6419745ad11c86e5612e51fd1693f432e77a1"
 },
 "nbformat": 3,
 "nbformat_minor": 0,
 "worksheets": [
  {
   "cells": [
    {
     "cell_type": "code",
     "collapsed": false,
     "input": [
      "\"\"\" Notes: \n",
      "- Need to transform labels from [-1,1] to [0,1] to have treescores report the right accuracies.\n",
      "- Watch csr sparse array to dense conversion, for datasets in libsvm format.\n",
      "\"\"\""
     ],
     "language": "python",
     "metadata": {},
     "outputs": []
    },
    {
     "cell_type": "code",
     "collapsed": false,
     "input": [
      "import numpy as np\n",
      "import pandas as pd\n",
      "import csv\n",
      "%matplotlib inline\n",
      "import matplotlib.pyplot as plt\n",
      "from sklearn.ensemble import RandomForestClassifier\n",
      "from numpy import genfromtxt, savetxt\n",
      "from sklearn.cross_validation import cross_val_score, train_test_split\n",
      "from sklearn.datasets import load_svmlight_file\n",
      "from scipy.sparse import *"
     ],
     "language": "python",
     "metadata": {},
     "outputs": [],
     "prompt_number": 72
    },
    {
     "cell_type": "code",
     "collapsed": false,
     "input": [
      "def removedups(seq):\n",
      "    seen = set()\n",
      "    seen_add = seen.add\n",
      "    return [ x for x in seq if not (x in seen or seen_add(x))]\n",
      "\n",
      "def MmxAggPred(ens, x_test, avgacc):\n",
      "    preds = np.array([e.predict(x_test) for e in ens])\n",
      "    margs = (2*np.sum(preds, axis=0)/len(ens)) - 1\n",
      "    # now try to find |a_v|\n",
      "    mas = np.sort(np.absolute(margs))[::-1]\n",
      "    avgcorr = (2 * avgacc) - 1\n",
      "    nmas = np.cumsum(mas)/len(mas)\n",
      "    threshmarg = mas[np.argmax(nmas > avgcorr)]\n",
      "    # and generate predictions\n",
      "    margs = margs/threshmarg\n",
      "    aggpreds = np.clip(margs, -1.0, 1.0)\n",
      "    #aggpreds = [cmp(t,0) if abs(t)>1 else t for t in margs]\n",
      "    return aggpreds\n",
      "\n",
      "def GibbsPred(ens, x_test):\n",
      "    preds = np.array([e.predict(x_test) for e in ens])\n",
      "    margs = (2*np.sum(preds, axis=0)/len(ens)) - 1\n",
      "    return margs\n",
      "\n",
      "def VotePred(ens, x_test):\n",
      "    preds = np.array([e.predict(x_test) for e in ens])\n",
      "    margs = (2*np.sum(preds, axis=0)/len(ens)) - 1\n",
      "    aggpreds = [cmp(t,0) for t in margs]\n",
      "    return aggpreds\n",
      "\n",
      "def labelFreqs (margs, labels, numbins): #for the \"calibration\" graph\n",
      "    bins = np.linspace(-1, 1, numbins)\n",
      "    binndxs = np.digitize(margs, bins)\n",
      "    return np.array([np.mean(labels[np.where(binndxs == i)[0]]) for i in range(1,1+numbins)]) \n",
      "#bc bins are 1-indexed\n",
      "\n",
      "def labelEntropy (parthyp):\n",
      "    partcnts = np.array([len(a) for a in parthyp])\n",
      "    partcnts = partcnts/sum(partcnts*1.0)\n",
      "    return (-sum(partcnts * np.log(partcnts)))\n",
      "\n",
      "# Now we write two different functions for label entropy calculation. \n",
      "# The first simply calculates the new label entropy when a new point is considered; \n",
      "# the second actually calculates the new partition, and is kept separate for efficiency reasons.\n",
      "def labelEntCalc (parthyp, newpart):\n",
      "    # here parthyp and newpart are both lists of sets, with len(newpart) = 2.\n",
      "    partcnts = []\n",
      "    for s in parthyp:\n",
      "        if not(s.isdisjoint(newpart[0])):\n",
      "            partcnts.append(len(s & newpart[0]))\n",
      "        if not(s.isdisjoint(newpart[1])):\n",
      "            partcnts.append(len(s & newpart[1])) # equivalently s - newpart[0]\n",
      "    partcnts = np.array(partcnts)\n",
      "    partcnts = partcnts/sum(partcnts*1.0)\n",
      "    return (-sum(partcnts * np.log(partcnts)))\n",
      "            \n",
      "def labelEntPart (parthyp, newpart):\n",
      "    # here parthyp and newpart are both lists of sets, with len(newpart) = 2.\n",
      "    retpart = []\n",
      "    for s in parthyp:\n",
      "        if not(s.isdisjoint(newpart[0])):\n",
      "            retpart.append(s & newpart[0])\n",
      "        if not(s.isdisjoint(newpart[1])):\n",
      "            retpart.append(s & newpart[1])\n",
      "    return retpart\n",
      "\n",
      "def avgpairdis (predmat):\n",
      "    margs = np.sum(ep, axis=0)/len(rftrees)\n",
      "    return np.mean(0.5*(1-(margs * margs)))\n",
      "\n",
      "def BuildNet(distances, epsilon): # Returns a list of indices of hypotheses that constitute the net\n",
      "    epsnet = [0]\n",
      "    while (True):\n",
      "        # Build array of distances to epsnet\n",
      "        dists = [min([h[hndx] for hndx in epsnet]) for h in distances]\n",
      "        dmax = max(dists)\n",
      "        # Pick a hypothesis with max distance to epsnet\n",
      "        if (dmax < epsilon):\n",
      "            break\n",
      "        epsnet += [dists.index(dmax)]\n",
      "    return epsnet"
     ],
     "language": "python",
     "metadata": {},
     "outputs": [],
     "prompt_number": 73
    },
    {
     "cell_type": "code",
     "collapsed": false,
     "input": [
      "dataset = genfromtxt(open('Data/kaggle_bioresp_train.csv','r'), delimiter=',', dtype='f8')[1:]"
     ],
     "language": "python",
     "metadata": {},
     "outputs": [],
     "prompt_number": 74
    },
    {
     "cell_type": "code",
     "collapsed": false,
     "input": [
      "tr_lab = [x[0] for x in dataset]\n",
      "tr_feat = [x[1:] for x in dataset]\n",
      "#y_test = [x[0] for x in testdata]\n",
      "#x_test = [x[1:] for x in testdata]\n",
      "x_train, x_test, y_train, y_test = train_test_split(tr_feat, tr_lab, test_size=0.7, random_state=42)\n",
      "print (x_train.shape[0], x_test.shape[0])"
     ],
     "language": "python",
     "metadata": {},
     "outputs": [
      {
       "output_type": "stream",
       "stream": "stdout",
       "text": [
        "(1125, 2626)\n"
       ]
      }
     ],
     "prompt_number": 75
    },
    {
     "cell_type": "code",
     "collapsed": false,
     "input": [
      "(x_tr, y_tr) = load_svmlight_file(\"Data/a9a.train\")\n",
      "#(x_test, y_test) = load_svmlight_file(\"Data/a9a.test\")\n",
      "y_tr = 0.5*(1 + y_tr)\n",
      "x_tr = x_tr.todense()\n",
      "x_train, x_test, y_train, y_test = train_test_split(x_tr, y_tr, test_size=0.3, random_state=42)\n",
      "print (x_train.shape[0], x_test.shape[0])"
     ],
     "language": "python",
     "metadata": {},
     "outputs": [
      {
       "output_type": "stream",
       "stream": "stderr",
       "text": [
        "/Users/akshay/anaconda/lib/python2.7/site-packages/sklearn/datasets/svmlight_format.py:137: DeprecationWarning: using a non-integer number instead of an integer will result in an error in the future\n",
        "  return _load_svmlight_file(f, dtype, multilabel, zero_based, query_id)\n",
        "/Users/akshay/anaconda/lib/python2.7/site-packages/sklearn/datasets/svmlight_format.py:137: DeprecationWarning: using a non-integer number instead of an integer will result in an error in the future\n",
        "  return _load_svmlight_file(f, dtype, multilabel, zero_based, query_id)\n",
        "/Users/akshay/anaconda/lib/python2.7/site-packages/sklearn/datasets/svmlight_format.py:137: DeprecationWarning: using a non-integer number instead of an integer will result in an error in the future\n",
        "  return _load_svmlight_file(f, dtype, multilabel, zero_based, query_id)\n",
        "/Users/akshay/anaconda/lib/python2.7/site-packages/sklearn/datasets/svmlight_format.py:137: DeprecationWarning: using a non-integer number instead of an integer will result in an error in the future\n",
        "  return _load_svmlight_file(f, dtype, multilabel, zero_based, query_id)\n",
        "/Users/akshay/anaconda/lib/python2.7/site-packages/sklearn/datasets/svmlight_format.py:137: DeprecationWarning: using a non-integer number instead of an integer will result in an error in the future\n",
        "  return _load_svmlight_file(f, dtype, multilabel, zero_based, query_id)\n",
        "/Users/akshay/anaconda/lib/python2.7/site-packages/sklearn/datasets/svmlight_format.py:137: DeprecationWarning: using a non-integer number instead of an integer will result in an error in the future\n",
        "  return _load_svmlight_file(f, dtype, multilabel, zero_based, query_id)\n",
        "/Users/akshay/anaconda/lib/python2.7/site-packages/sklearn/datasets/svmlight_format.py:137: DeprecationWarning: using a non-integer number instead of an integer will result in an error in the future\n",
        "  return _load_svmlight_file(f, dtype, multilabel, zero_based, query_id)\n",
        "/Users/akshay/anaconda/lib/python2.7/site-packages/sklearn/datasets/svmlight_format.py:137: DeprecationWarning: using a non-integer number instead of an integer will result in an error in the future\n",
        "  return _load_svmlight_file(f, dtype, multilabel, zero_based, query_id)\n",
        "/Users/akshay/anaconda/lib/python2.7/site-packages/sklearn/datasets/svmlight_format.py:137: DeprecationWarning: using a non-integer number instead of an integer will result in an error in the future\n",
        "  return _load_svmlight_file(f, dtype, multilabel, zero_based, query_id)\n",
        "/Users/akshay/anaconda/lib/python2.7/site-packages/sklearn/datasets/svmlight_format.py:137: DeprecationWarning: using a non-integer number instead of an integer will result in an error in the future\n",
        "  return _load_svmlight_file(f, dtype, multilabel, zero_based, query_id)\n",
        "/Users/akshay/anaconda/lib/python2.7/site-packages/sklearn/datasets/svmlight_format.py:137: DeprecationWarning: using a non-integer number instead of an integer will result in an error in the future\n",
        "  return _load_svmlight_file(f, dtype, multilabel, zero_based, query_id)\n",
        "/Users/akshay/anaconda/lib/python2.7/site-packages/sklearn/datasets/svmlight_format.py:137: DeprecationWarning: using a non-integer number instead of an integer will result in an error in the future\n",
        "  return _load_svmlight_file(f, dtype, multilabel, zero_based, query_id)\n",
        "/Users/akshay/anaconda/lib/python2.7/site-packages/sklearn/datasets/svmlight_format.py:137: DeprecationWarning: using a non-integer number instead of an integer will result in an error in the future\n",
        "  return _load_svmlight_file(f, dtype, multilabel, zero_based, query_id)\n",
        "/Users/akshay/anaconda/lib/python2.7/site-packages/sklearn/datasets/svmlight_format.py:137: DeprecationWarning: using a non-integer number instead of an integer will result in an error in the future\n",
        "  return _load_svmlight_file(f, dtype, multilabel, zero_based, query_id)\n",
        "/Users/akshay/anaconda/lib/python2.7/site-packages/sklearn/datasets/svmlight_format.py:137: DeprecationWarning: using a non-integer number instead of an integer will result in an error in the future\n",
        "  return _load_svmlight_file(f, dtype, multilabel, zero_based, query_id)\n",
        "/Users/akshay/anaconda/lib/python2.7/site-packages/sklearn/datasets/svmlight_format.py:137: DeprecationWarning: using a non-integer number instead of an integer will result in an error in the future\n",
        "  return _load_svmlight_file(f, dtype, multilabel, zero_based, query_id)\n",
        "/Users/akshay/anaconda/lib/python2.7/site-packages/sklearn/datasets/svmlight_format.py:137: DeprecationWarning: using a non-integer number instead of an integer will result in an error in the future\n",
        "  return _load_svmlight_file(f, dtype, multilabel, zero_based, query_id)\n",
        "/Users/akshay/anaconda/lib/python2.7/site-packages/sklearn/datasets/svmlight_format.py:137: DeprecationWarning: using a non-integer number instead of an integer will result in an error in the future\n",
        "  return _load_svmlight_file(f, dtype, multilabel, zero_based, query_id)\n",
        "/Users/akshay/anaconda/lib/python2.7/site-packages/sklearn/datasets/svmlight_format.py:137: DeprecationWarning: using a non-integer number instead of an integer will result in an error in the future\n",
        "  return _load_svmlight_file(f, dtype, multilabel, zero_based, query_id)\n",
        "/Users/akshay/anaconda/lib/python2.7/site-packages/sklearn/datasets/svmlight_format.py:137: DeprecationWarning: using a non-integer number instead of an integer will result in an error in the future\n",
        "  return _load_svmlight_file(f, dtype, multilabel, zero_based, query_id)\n",
        "/Users/akshay/anaconda/lib/python2.7/site-packages/sklearn/datasets/svmlight_format.py:137: DeprecationWarning: using a non-integer number instead of an integer will result in an error in the future\n",
        "  return _load_svmlight_file(f, dtype, multilabel, zero_based, query_id)\n",
        "/Users/akshay/anaconda/lib/python2.7/site-packages/sklearn/datasets/svmlight_format.py:137: DeprecationWarning: using a non-integer number instead of an integer will result in an error in the future\n",
        "  return _load_svmlight_file(f, dtype, multilabel, zero_based, query_id)\n",
        "/Users/akshay/anaconda/lib/python2.7/site-packages/sklearn/datasets/svmlight_format.py:137: DeprecationWarning: using a non-integer number instead of an integer will result in an error in the future\n",
        "  return _load_svmlight_file(f, dtype, multilabel, zero_based, query_id)\n",
        "/Users/akshay/anaconda/lib/python2.7/site-packages/sklearn/datasets/svmlight_format.py:137: DeprecationWarning: using a non-integer number instead of an integer will result in an error in the future\n",
        "  return _load_svmlight_file(f, dtype, multilabel, zero_based, query_id)\n",
        "/Users/akshay/anaconda/lib/python2.7/site-packages/sklearn/datasets/svmlight_format.py:137: DeprecationWarning: using a non-integer number instead of an integer will result in an error in the future\n",
        "  return _load_svmlight_file(f, dtype, multilabel, zero_based, query_id)\n",
        "/Users/akshay/anaconda/lib/python2.7/site-packages/sklearn/datasets/svmlight_format.py:137: DeprecationWarning: using a non-integer number instead of an integer will result in an error in the future\n",
        "  return _load_svmlight_file(f, dtype, multilabel, zero_based, query_id)\n",
        "/Users/akshay/anaconda/lib/python2.7/site-packages/sklearn/datasets/svmlight_format.py:137: DeprecationWarning: using a non-integer number instead of an integer will result in an error in the future\n",
        "  return _load_svmlight_file(f, dtype, multilabel, zero_based, query_id)\n",
        "/Users/akshay/anaconda/lib/python2.7/site-packages/sklearn/datasets/svmlight_format.py:137: DeprecationWarning: using a non-integer number instead of an integer will result in an error in the future\n",
        "  return _load_svmlight_file(f, dtype, multilabel, zero_based, query_id)\n",
        "/Users/akshay/anaconda/lib/python2.7/site-packages/sklearn/datasets/svmlight_format.py:137: DeprecationWarning: using a non-integer number instead of an integer will result in an error in the future\n",
        "  return _load_svmlight_file(f, dtype, multilabel, zero_based, query_id)\n",
        "/Users/akshay/anaconda/lib/python2.7/site-packages/sklearn/datasets/svmlight_format.py:137: DeprecationWarning: using a non-integer number instead of an integer will result in an error in the future\n",
        "  return _load_svmlight_file(f, dtype, multilabel, zero_based, query_id)\n",
        "/Users/akshay/anaconda/lib/python2.7/site-packages/sklearn/datasets/svmlight_format.py:137: DeprecationWarning: using a non-integer number instead of an integer will result in an error in the future\n",
        "  return _load_svmlight_file(f, dtype, multilabel, zero_based, query_id)\n",
        "/Users/akshay/anaconda/lib/python2.7/site-packages/sklearn/datasets/svmlight_format.py:137: DeprecationWarning: using a non-integer number instead of an integer will result in an error in the future\n",
        "  return _load_svmlight_file(f, dtype, multilabel, zero_based, query_id)\n",
        "/Users/akshay/anaconda/lib/python2.7/site-packages/sklearn/datasets/svmlight_format.py:137: DeprecationWarning: using a non-integer number instead of an integer will result in an error in the future\n",
        "  return _load_svmlight_file(f, dtype, multilabel, zero_based, query_id)\n",
        "/Users/akshay/anaconda/lib/python2.7/site-packages/sklearn/datasets/svmlight_format.py:137: DeprecationWarning: using a non-integer number instead of an integer will result in an error in the future\n",
        "  return _load_svmlight_file(f, dtype, multilabel, zero_based, query_id)\n",
        "/Users/akshay/anaconda/lib/python2.7/site-packages/sklearn/datasets/svmlight_format.py:137: DeprecationWarning: using a non-integer number instead of an integer will result in an error in the future\n",
        "  return _load_svmlight_file(f, dtype, multilabel, zero_based, query_id)\n"
       ]
      },
      {
       "output_type": "stream",
       "stream": "stderr",
       "text": [
        "/Users/akshay/anaconda/lib/python2.7/site-packages/sklearn/datasets/svmlight_format.py:137: DeprecationWarning: using a non-integer number instead of an integer will result in an error in the future\n",
        "  return _load_svmlight_file(f, dtype, multilabel, zero_based, query_id)\n",
        "/Users/akshay/anaconda/lib/python2.7/site-packages/sklearn/datasets/svmlight_format.py:137: DeprecationWarning: using a non-integer number instead of an integer will result in an error in the future\n",
        "  return _load_svmlight_file(f, dtype, multilabel, zero_based, query_id)\n",
        "/Users/akshay/anaconda/lib/python2.7/site-packages/sklearn/datasets/svmlight_format.py:137: DeprecationWarning: using a non-integer number instead of an integer will result in an error in the future\n",
        "  return _load_svmlight_file(f, dtype, multilabel, zero_based, query_id)\n",
        "/Users/akshay/anaconda/lib/python2.7/site-packages/sklearn/datasets/svmlight_format.py:137: DeprecationWarning: using a non-integer number instead of an integer will result in an error in the future\n",
        "  return _load_svmlight_file(f, dtype, multilabel, zero_based, query_id)\n"
       ]
      },
      {
       "output_type": "stream",
       "stream": "stderr",
       "text": [
        "/Users/akshay/anaconda/lib/python2.7/site-packages/sklearn/datasets/svmlight_format.py:137: DeprecationWarning: using a non-integer number instead of an integer will result in an error in the future\n",
        "  return _load_svmlight_file(f, dtype, multilabel, zero_based, query_id)\n",
        "/Users/akshay/anaconda/lib/python2.7/site-packages/sklearn/datasets/svmlight_format.py:137: DeprecationWarning: using a non-integer number instead of an integer will result in an error in the future\n",
        "  return _load_svmlight_file(f, dtype, multilabel, zero_based, query_id)\n",
        "/Users/akshay/anaconda/lib/python2.7/site-packages/sklearn/datasets/svmlight_format.py:137: DeprecationWarning: using a non-integer number instead of an integer will result in an error in the future\n",
        "  return _load_svmlight_file(f, dtype, multilabel, zero_based, query_id)\n",
        "/Users/akshay/anaconda/lib/python2.7/site-packages/sklearn/datasets/svmlight_format.py:137: DeprecationWarning: using a non-integer number instead of an integer will result in an error in the future\n",
        "  return _load_svmlight_file(f, dtype, multilabel, zero_based, query_id)\n"
       ]
      },
      {
       "output_type": "stream",
       "stream": "stderr",
       "text": [
        "/Users/akshay/anaconda/lib/python2.7/site-packages/sklearn/datasets/svmlight_format.py:137: DeprecationWarning: using a non-integer number instead of an integer will result in an error in the future\n",
        "  return _load_svmlight_file(f, dtype, multilabel, zero_based, query_id)\n",
        "/Users/akshay/anaconda/lib/python2.7/site-packages/sklearn/datasets/svmlight_format.py:137: DeprecationWarning: using a non-integer number instead of an integer will result in an error in the future\n",
        "  return _load_svmlight_file(f, dtype, multilabel, zero_based, query_id)\n"
       ]
      },
      {
       "output_type": "stream",
       "stream": "stderr",
       "text": [
        "/Users/akshay/anaconda/lib/python2.7/site-packages/sklearn/datasets/svmlight_format.py:137: DeprecationWarning: using a non-integer number instead of an integer will result in an error in the future\n",
        "  return _load_svmlight_file(f, dtype, multilabel, zero_based, query_id)\n",
        "/Users/akshay/anaconda/lib/python2.7/site-packages/sklearn/datasets/svmlight_format.py:137: DeprecationWarning: using a non-integer number instead of an integer will result in an error in the future\n",
        "  return _load_svmlight_file(f, dtype, multilabel, zero_based, query_id)\n"
       ]
      },
      {
       "output_type": "stream",
       "stream": "stderr",
       "text": [
        "/Users/akshay/anaconda/lib/python2.7/site-packages/sklearn/datasets/svmlight_format.py:137: DeprecationWarning: using a non-integer number instead of an integer will result in an error in the future\n",
        "  return _load_svmlight_file(f, dtype, multilabel, zero_based, query_id)\n",
        "/Users/akshay/anaconda/lib/python2.7/site-packages/sklearn/datasets/svmlight_format.py:137: DeprecationWarning: using a non-integer number instead of an integer will result in an error in the future\n",
        "  return _load_svmlight_file(f, dtype, multilabel, zero_based, query_id)\n"
       ]
      },
      {
       "output_type": "stream",
       "stream": "stderr",
       "text": [
        "/Users/akshay/anaconda/lib/python2.7/site-packages/sklearn/datasets/svmlight_format.py:137: DeprecationWarning: using a non-integer number instead of an integer will result in an error in the future\n",
        "  return _load_svmlight_file(f, dtype, multilabel, zero_based, query_id)\n",
        "/Users/akshay/anaconda/lib/python2.7/site-packages/sklearn/datasets/svmlight_format.py:137: DeprecationWarning: using a non-integer number instead of an integer will result in an error in the future\n",
        "  return _load_svmlight_file(f, dtype, multilabel, zero_based, query_id)\n"
       ]
      },
      {
       "output_type": "stream",
       "stream": "stderr",
       "text": [
        "/Users/akshay/anaconda/lib/python2.7/site-packages/sklearn/datasets/svmlight_format.py:137: DeprecationWarning: using a non-integer number instead of an integer will result in an error in the future\n",
        "  return _load_svmlight_file(f, dtype, multilabel, zero_based, query_id)\n",
        "/Users/akshay/anaconda/lib/python2.7/site-packages/sklearn/datasets/svmlight_format.py:137: DeprecationWarning: using a non-integer number instead of an integer will result in an error in the future\n",
        "  return _load_svmlight_file(f, dtype, multilabel, zero_based, query_id)\n"
       ]
      },
      {
       "output_type": "stream",
       "stream": "stderr",
       "text": [
        "/Users/akshay/anaconda/lib/python2.7/site-packages/sklearn/datasets/svmlight_format.py:137: DeprecationWarning: using a non-integer number instead of an integer will result in an error in the future\n",
        "  return _load_svmlight_file(f, dtype, multilabel, zero_based, query_id)\n",
        "/Users/akshay/anaconda/lib/python2.7/site-packages/sklearn/datasets/svmlight_format.py:137: DeprecationWarning: using a non-integer number instead of an integer will result in an error in the future\n",
        "  return _load_svmlight_file(f, dtype, multilabel, zero_based, query_id)\n"
       ]
      },
      {
       "output_type": "stream",
       "stream": "stderr",
       "text": [
        "/Users/akshay/anaconda/lib/python2.7/site-packages/sklearn/datasets/svmlight_format.py:137: DeprecationWarning: using a non-integer number instead of an integer will result in an error in the future\n",
        "  return _load_svmlight_file(f, dtype, multilabel, zero_based, query_id)\n",
        "/Users/akshay/anaconda/lib/python2.7/site-packages/sklearn/datasets/svmlight_format.py:137: DeprecationWarning: using a non-integer number instead of an integer will result in an error in the future\n",
        "  return _load_svmlight_file(f, dtype, multilabel, zero_based, query_id)\n"
       ]
      },
      {
       "output_type": "stream",
       "stream": "stderr",
       "text": [
        "/Users/akshay/anaconda/lib/python2.7/site-packages/sklearn/datasets/svmlight_format.py:137: DeprecationWarning: using a non-integer number instead of an integer will result in an error in the future\n",
        "  return _load_svmlight_file(f, dtype, multilabel, zero_based, query_id)\n",
        "/Users/akshay/anaconda/lib/python2.7/site-packages/sklearn/datasets/svmlight_format.py:137: DeprecationWarning: using a non-integer number instead of an integer will result in an error in the future\n",
        "  return _load_svmlight_file(f, dtype, multilabel, zero_based, query_id)\n"
       ]
      },
      {
       "output_type": "stream",
       "stream": "stderr",
       "text": [
        "/Users/akshay/anaconda/lib/python2.7/site-packages/sklearn/datasets/svmlight_format.py:137: DeprecationWarning: using a non-integer number instead of an integer will result in an error in the future\n",
        "  return _load_svmlight_file(f, dtype, multilabel, zero_based, query_id)\n",
        "/Users/akshay/anaconda/lib/python2.7/site-packages/sklearn/datasets/svmlight_format.py:137: DeprecationWarning: using a non-integer number instead of an integer will result in an error in the future\n",
        "  return _load_svmlight_file(f, dtype, multilabel, zero_based, query_id)\n"
       ]
      },
      {
       "output_type": "stream",
       "stream": "stdout",
       "text": [
        "(22792, 9769)\n"
       ]
      },
      {
       "output_type": "stream",
       "stream": "stderr",
       "text": [
        "/Users/akshay/anaconda/lib/python2.7/site-packages/sklearn/datasets/svmlight_format.py:137: DeprecationWarning: using a non-integer number instead of an integer will result in an error in the future\n",
        "  return _load_svmlight_file(f, dtype, multilabel, zero_based, query_id)\n"
       ]
      }
     ],
     "prompt_number": 76
    },
    {
     "cell_type": "code",
     "collapsed": false,
     "input": [
      "rf = RandomForestClassifier(n_estimators=200)\n",
      "rf.fit(x_train, y_train)"
     ],
     "language": "python",
     "metadata": {},
     "outputs": [
      {
       "metadata": {},
       "output_type": "pyout",
       "prompt_number": 77,
       "text": [
        "RandomForestClassifier(bootstrap=True, compute_importances=None,\n",
        "            criterion='gini', max_depth=None, max_features='auto',\n",
        "            min_density=None, min_samples_leaf=1, min_samples_split=2,\n",
        "            n_estimators=200, n_jobs=1, oob_score=False, random_state=None,\n",
        "            verbose=0)"
       ]
      }
     ],
     "prompt_number": 77
    },
    {
     "cell_type": "code",
     "collapsed": false,
     "input": [
      "rftrees = rf.estimators_\n",
      "treescores = [tr.score(x_test, y_test) for tr in rftrees]\n",
      "\n",
      "ep = np.array([tr.predict(x_test) for tr in rftrees])\n",
      "ep = 2*ep - 1\n",
      "margs = np.sum(ep, axis=0)/len(rftrees)\n",
      "numhyp = ep.shape[0]\n",
      "numpts = ep.shape[1]"
     ],
     "language": "python",
     "metadata": {},
     "outputs": [],
     "prompt_number": 78
    },
    {
     "cell_type": "code",
     "collapsed": false,
     "input": [
      "# First, the distribution of hypothesis errors.\n",
      "plt.hist(treescores, numhyp/4.0)\n",
      "plt.title('Accuracies of ensemble classifiers')\n",
      "plt.show()"
     ],
     "language": "python",
     "metadata": {},
     "outputs": [
      {
       "metadata": {},
       "output_type": "display_data",
       "png": "[encoded data removed]",
       "text": [
        "<matplotlib.figure.Figure at 0x109856710>"
       ]
      }
     ],
     "prompt_number": 79
    },
    {
     "cell_type": "code",
     "collapsed": false,
     "input": [
      "# Disagreement-based things: \n",
      "avgerr = 1-np.mean(treescores)\n",
      "maxdis = 2*avgerr*(1-avgerr)\n",
      "avgdis = avgpairdis(ep)\n",
      "print(avgdis, maxdis)\n",
      "y_test"
     ],
     "language": "python",
     "metadata": {},
     "outputs": [
      {
       "output_type": "stream",
       "stream": "stdout",
       "text": [
        "(0.37733023610053373, 0.45862095014469545)\n"
       ]
      },
      {
       "metadata": {},
       "output_type": "pyout",
       "prompt_number": 46,
       "text": [
        "array([ 1.,  1.,  0., ...,  1.,  0.,  0.])"
       ]
      }
     ],
     "prompt_number": 46
    },
    {
     "cell_type": "code",
     "collapsed": false,
     "input": [
      "pluses = np.where(y_test == 1)[0]\n",
      "minuses = np.where(y_test == 0)[0]\n",
      "plt.hist(margs[pluses], 50, alpha = 0.5, label='+1')\n",
      "plt.hist(margs[minuses], 50, alpha = 0.5, label='-1')\n",
      "plt.title('margins of ' + str(len(margs)) + ' test points')\n",
      "plt.show()"
     ],
     "language": "python",
     "metadata": {},
     "outputs": [
      {
       "metadata": {},
       "output_type": "display_data",
       "png": "[encoded data removed]",
       "text": [
        "<matplotlib.figure.Figure at 0x119106ad0>"
       ]
      }
     ],
     "prompt_number": 50
    },
    {
     "cell_type": "code",
     "collapsed": false,
     "input": [
      "len(np.where(abs(margs) >= 0.95)[0])"
     ],
     "language": "python",
     "metadata": {},
     "outputs": [
      {
       "metadata": {},
       "output_type": "pyout",
       "prompt_number": 13,
       "text": [
        "3952"
       ]
      }
     ],
     "prompt_number": 13
    },
    {
     "cell_type": "code",
     "collapsed": false,
     "input": [
      "disses = [0.5*(1 - (np.dot(h1, h2)/numpts)) for h1 in ep for h2 in ep]\n",
      "plt.hist(disses, 1000)\n",
      "plt.title('pairwise disagreements between hypotheses (double-counting)')\n",
      "plt.show()"
     ],
     "language": "python",
     "metadata": {},
     "outputs": [
      {
       "metadata": {},
       "output_type": "display_data",
       "png": "[encoded data removed]",
       "text": [
        "<matplotlib.figure.Figure at 0x108d64990>"
       ]
      }
     ],
     "prompt_number": 10
    },
    {
     "cell_type": "code",
     "collapsed": false,
     "input": [
      "# Wasteful, uses double the necessary memory and computes ALL pairwise distances!\n",
      "distmat = [[0.5*(1 - (np.dot(h1, h2)/numpts)) for h2 in ep] for h1 in ep]"
     ],
     "language": "python",
     "metadata": {},
     "outputs": [],
     "prompt_number": 53
    },
    {
     "cell_type": "code",
     "collapsed": false,
     "input": [
      "epsabsc = np.linspace(0.38,0.42,30)\n",
      "netcards = [len(BuildNet(distmat, i)) for i in epsabsc]\n",
      "fig = plt.figure()\n",
      "ax1 = fig.add_subplot(111)\n",
      "ax1.plot(epsabsc, netcards, 'r-', linewidth=2)\n",
      "ax1.set_xscale('log')\n",
      "ax1.set_yscale('log')\n",
      "plt.title('Size of \\epsilon-net vs. \\epsilon')\n",
      "plt.show()"
     ],
     "language": "python",
     "metadata": {},
     "outputs": [
      {
       "metadata": {},
       "output_type": "display_data",
       "png": "[encoded data removed]",
       "text": [
        "<matplotlib.figure.Figure at 0x11917fe10>"
       ]
      }
     ],
     "prompt_number": 57
    },
    {
     "cell_type": "code",
     "collapsed": false,
     "input": [
      "# Plot avg true label in bins, compare to CRP\n",
      "numbins = 60\n",
      "labbins = list(np.linspace(-1, 1, numbins))\n",
      "plusndxs = np.where(y_test == 1)[0]\n",
      "minusndxs = np.where(y_test == 0)[0]\n",
      "labfreqs = 2*(labelFreqs (margs, y_test, numbins)) - 1\n",
      "labfreqsplus = 2*(labelFreqs (margs, y_test, numbins)) - 1\n",
      "labfreqsminus = 2*(labelFreqs (margs, y_test, numbins)) - 1\n",
      "fig = plt.figure()\n",
      "ax1 = fig.add_subplot(111)\n",
      "ax1.plot(labbins, labfreqs, 'r-', linewidth=2)\n",
      "ax1.plot(labbins, labbins, 'g--')\n",
      "plt.title('Approximate average label vs. averaged ensemble prediction')\n",
      "plt.show()"
     ],
     "language": "python",
     "metadata": {},
     "outputs": [
      {
       "metadata": {},
       "output_type": "display_data",
       "png": "[encoded data removed]",
       "text": [
        "<matplotlib.figure.Figure at 0x109083d50>"
       ]
      }
     ],
     "prompt_number": 13
    },
    {
     "cell_type": "code",
     "collapsed": false,
     "input": [
      "mmxpred = MmxAggPred(rftrees, x_test, np.mean(treescores))\n",
      "gibbspred = GibbsPred(rftrees, x_test)\n",
      "votepred = VotePred(rftrees, x_test)"
     ],
     "language": "python",
     "metadata": {},
     "outputs": [],
     "prompt_number": 51
    },
    {
     "cell_type": "code",
     "collapsed": false,
     "input": [
      "pm_test = (2*y_test) -1\n",
      "mmxacc = (1 + np.dot(pm_test, mmxpred)/len(mmxpred))*0.5\n",
      "gibbsacc = (1 + np.dot(pm_test, gibbspred)/len(gibbspred))*0.5\n",
      "voteacc = (1 + np.dot(pm_test, votepred)/len(votepred))*0.5\n",
      "#print \"mmxacc: \" + mmxacc + \"\\ngibbsacc: \" + gibbsacc + \"\\nvoteacc: \" + voteacc\n",
      "print mmxacc, gibbsacc, voteacc"
     ],
     "language": "python",
     "metadata": {},
     "outputs": [
      {
       "output_type": "stream",
       "stream": "stdout",
       "text": [
        "0.728050914748 0.6438385377 0.759520182788\n"
       ]
      }
     ],
     "prompt_number": 52
    },
    {
     "cell_type": "code",
     "collapsed": false,
     "input": [
      "margndxs = np.argsort(abs(margs))[::-1]\n",
      "tpep = ep[:,margndxs]"
     ],
     "language": "python",
     "metadata": {},
     "outputs": [],
     "prompt_number": 9
    },
    {
     "cell_type": "code",
     "collapsed": false,
     "input": [
      "# Greedy algorithm: take a lean subset so far and greedily add to it an example that minimizes label entropy.\n",
      "# Termination condition for a subset: \n",
      "# when the label entropy gets large (relative to the size of the subset, or on an absolute scale)\n",
      "def GreedyLeanSelect (tpep, threshent):\n",
      "    nhyp = tpep.shape[0]\n",
      "    npts = tpep.shape[1]\n",
      "    ptsrem = range(npts) #examples remaining unassigned to a lean subset\n",
      "    leancoll = []\n",
      "    leancoll.append(set(np.where(abs(margs) >= 0.9999)[0])) #all unanimous pts form their own lean set\n",
      "    leanpts = len(leancoll[0])\n",
      "    for ex in leancoll[0]:\n",
      "        ptsrem.remove(ex)\n",
      "    while (leanpts < npts): #outer loop keeps finding lean sets\n",
      "        # Store the partition so far as a list of sets, each element being a list of hypothesis indices.\n",
      "        currpart = [set(range(nhyp))]\n",
      "        leanset = set()  # Store the lean subset as a set of indices of examples\n",
      "        maxval = 0\n",
      "        parttoadd = []\n",
      "        while (labelEntropy(currpart) <= threshent): # inner loop keeps trying to add pts to lean set\n",
      "            if (len(leanset) % 100 == 0 and (len(leanset) != 0)):\n",
      "                print len(leanset)#, labelEntropy(currpart), len(currpart))\n",
      "            minent = nhyp\n",
      "            # The following is a heuristic for tractability. Can change max(leanset) to 75th %ile.\n",
      "            # It relies on the fact that the points are ordered by margin!\n",
      "            ptstoiter = ptsrem[0:200]\n",
      "            # Now we grow the list of candidate points to check, as the lean set grows.\n",
      "            for exndx in ptstoiter: # Greedy loop, choosing which point to add to min labeling entropy.\n",
      "                #if (exndx not in ptsrem):\n",
      "                #    continue\n",
      "                newex = tpep.transpose()[exndx] #newex is the new example\n",
      "                newpart = [set([i for i,j in enumerate(newex) if j == -1]), \n",
      "                           set([i for i,j in enumerate(newex) if j == 1])]\n",
      "                thisent = labelEntCalc(currpart, newpart)\n",
      "                if (thisent < minent):\n",
      "                    minent = thisent\n",
      "                    ndxtoadd = exndx\n",
      "                    parttoadd = newpart\n",
      "            currpart = labelEntPart(currpart, parttoadd)\n",
      "            leanset = leanset | {ndxtoadd}\n",
      "            if (ndxtoadd > maxval):\n",
      "                maxval = ndxtoadd\n",
      "            ptsrem.remove(ndxtoadd)\n",
      "        #print(leanset)\n",
      "        leancoll.append(leanset)\n",
      "        leanpts += len(leanset)\n",
      "        print(len(leanset), leanpts, npts)\n",
      "        if (len(leancoll) == 3):\n",
      "            return (leancoll[1], leancoll[2])\n",
      "        \n",
      "bigleansetlong = GreedyLeanSelect(tpep, 1.0)"
     ],
     "language": "python",
     "metadata": {},
     "outputs": [
      {
       "output_type": "stream",
       "stream": "stdout",
       "text": [
        "100\n",
        "200"
       ]
      },
      {
       "output_type": "stream",
       "stream": "stdout",
       "text": [
        "\n",
        "300"
       ]
      },
      {
       "output_type": "stream",
       "stream": "stdout",
       "text": [
        "\n",
        "400"
       ]
      },
      {
       "output_type": "stream",
       "stream": "stdout",
       "text": [
        "\n",
        "500"
       ]
      },
      {
       "output_type": "stream",
       "stream": "stdout",
       "text": [
        "\n",
        "600"
       ]
      },
      {
       "output_type": "stream",
       "stream": "stdout",
       "text": [
        "\n",
        "700"
       ]
      },
      {
       "output_type": "stream",
       "stream": "stdout",
       "text": [
        "\n",
        "800"
       ]
      },
      {
       "output_type": "stream",
       "stream": "stdout",
       "text": [
        "\n",
        "900"
       ]
      },
      {
       "output_type": "stream",
       "stream": "stdout",
       "text": [
        "\n",
        "1000"
       ]
      },
      {
       "output_type": "stream",
       "stream": "stdout",
       "text": [
        "\n",
        "1100"
       ]
      },
      {
       "output_type": "stream",
       "stream": "stdout",
       "text": [
        "\n",
        "1200"
       ]
      },
      {
       "output_type": "stream",
       "stream": "stdout",
       "text": [
        "\n",
        "1300"
       ]
      },
      {
       "output_type": "stream",
       "stream": "stdout",
       "text": [
        "\n",
        "1400"
       ]
      },
      {
       "output_type": "stream",
       "stream": "stdout",
       "text": [
        "\n",
        "1500"
       ]
      },
      {
       "output_type": "stream",
       "stream": "stdout",
       "text": [
        "\n",
        "1600"
       ]
      },
      {
       "output_type": "stream",
       "stream": "stdout",
       "text": [
        "\n",
        "1700"
       ]
      },
      {
       "output_type": "stream",
       "stream": "stdout",
       "text": [
        "\n",
        "1800"
       ]
      },
      {
       "output_type": "stream",
       "stream": "stdout",
       "text": [
        "\n",
        "(1810, 4009, 9769)"
       ]
      },
      {
       "output_type": "stream",
       "stream": "stdout",
       "text": [
        "\n",
        "(91, 4100, 9769)"
       ]
      },
      {
       "output_type": "stream",
       "stream": "stdout",
       "text": [
        "\n"
       ]
      }
     ],
     "prompt_number": 28
    },
    {
     "cell_type": "code",
     "collapsed": false,
     "input": [
      "tpepshort = tpep[:,list(bigleanset[0])]\n",
      "margshort = np.sum(tpepshort, axis=0)/numhyp\n",
      "plt.hist(margshort, 20)\n",
      "plt.title('margins of ' + str(len(margshort)) + ' lean points')\n",
      "plt.show()"
     ],
     "language": "python",
     "metadata": {},
     "outputs": [
      {
       "metadata": {},
       "output_type": "display_data",
       "png": "[encoded data removed]",
       "text": [
        "<matplotlib.figure.Figure at 0x1190a5150>"
       ]
      }
     ],
     "prompt_number": 29
    },
    {
     "cell_type": "code",
     "collapsed": false,
     "input": [
      "y_sorted = y_test[margndxs]\n",
      "y_lean = y_sorted[list(bigleanset[0])]\n",
      "len(y_lean)\n",
      "yt_lean = 2*np.y_lean\n",
      "#bigleanset[0]"
     ],
     "language": "python",
     "metadata": {},
     "outputs": [
      {
       "metadata": {},
       "output_type": "pyout",
       "prompt_number": 37,
       "text": [
        "71.0"
       ]
      }
     ],
     "prompt_number": 37
    },
    {
     "cell_type": "code",
     "collapsed": false,
     "input": [
      "a = []\n",
      "a.append(set([3,4,5]))\n",
      "a.append(set([3,4,6]))"
     ],
     "language": "python",
     "metadata": {},
     "outputs": [],
     "prompt_number": 71
    },
    {
     "cell_type": "code",
     "collapsed": false,
     "input": [
      "b = (a[1] | a[0])\n",
      "c = 7\n",
      "b = b | {c}\n",
      "max(b)"
     ],
     "language": "python",
     "metadata": {},
     "outputs": [
      {
       "metadata": {},
       "output_type": "pyout",
       "prompt_number": 72,
       "text": [
        "7"
       ]
      }
     ],
     "prompt_number": 72
    },
    {
     "cell_type": "code",
     "collapsed": false,
     "input": [
      "currpart = [set(range(20))]\n",
      "newpart = [set(range(10)), set(range(10,20))]\n",
      "newpart2 = [set(range(6)), set(range(6,20))]\n",
      "currpart = labelEntPart(currpart, newpart)\n",
      "currpart\n",
      "currpart = labelEntPart(currpart, newpart2)\n",
      "currpart\n",
      "sum([len(a) for a in currpart])"
     ],
     "language": "python",
     "metadata": {},
     "outputs": [
      {
       "metadata": {},
       "output_type": "pyout",
       "prompt_number": 29,
       "text": [
        "20"
       ]
      }
     ],
     "prompt_number": 29
    },
    {
     "cell_type": "code",
     "collapsed": false,
     "input": [
      "x = np.array([3,7,3,65,4,3,7,3,36,2,4])\n",
      "removedups(x)"
     ],
     "language": "python",
     "metadata": {},
     "outputs": [
      {
       "metadata": {},
       "output_type": "pyout",
       "prompt_number": 86,
       "text": [
        "array([ 3,  7,  3, 65])"
       ]
      }
     ],
     "prompt_number": 86
    },
    {
     "cell_type": "code",
     "collapsed": false,
     "input": [
      "v = set()\n",
      "max(v)"
     ],
     "language": "python",
     "metadata": {},
     "outputs": [
      {
       "ename": "ValueError",
       "evalue": "max() arg is an empty sequence",
       "output_type": "pyerr",
       "traceback": [
        "\u001b[0;31m---------------------------------------------------------------------------\u001b[0m\n\u001b[0;31mValueError\u001b[0m                                Traceback (most recent call last)",
        "\u001b[0;32m<ipython-input-75-f899f3da98cc>\u001b[0m in \u001b[0;36m<module>\u001b[0;34m()\u001b[0m\n\u001b[1;32m      1\u001b[0m \u001b[0mv\u001b[0m \u001b[0;34m=\u001b[0m \u001b[0mset\u001b[0m\u001b[0;34m(\u001b[0m\u001b[0;34m)\u001b[0m\u001b[0;34m\u001b[0m\u001b[0m\n\u001b[0;32m----> 2\u001b[0;31m \u001b[0mmax\u001b[0m\u001b[0;34m(\u001b[0m\u001b[0mv\u001b[0m\u001b[0;34m)\u001b[0m\u001b[0;34m\u001b[0m\u001b[0m\n\u001b[0m",
        "\u001b[0;31mValueError\u001b[0m: max() arg is an empty sequence"
       ]
      }
     ],
     "prompt_number": 75
    },
    {
     "cell_type": "code",
     "collapsed": false,
     "input": [
      "range(20,20+10)"
     ],
     "language": "python",
     "metadata": {},
     "outputs": [
      {
       "metadata": {},
       "output_type": "pyout",
       "prompt_number": 84,
       "text": [
        "[20, 21, 22, 23, 24, 25, 26, 27, 28, 29]"
       ]
      }
     ],
     "prompt_number": 84
    },
    {
     "cell_type": "code",
     "collapsed": false,
     "input": [
      "a = np.array([3,5,8])\n",
      "b = np.array([2,2,2])\n",
      "print(a+b)"
     ],
     "language": "python",
     "metadata": {},
     "outputs": [
      {
       "output_type": "stream",
       "stream": "stdout",
       "text": [
        "[ 5  7 10]\n"
       ]
      }
     ],
     "prompt_number": 84
    },
    {
     "cell_type": "code",
     "collapsed": false,
     "input": [],
     "language": "python",
     "metadata": {},
     "outputs": []
    }
   ],
   "metadata": {}
  }
 ]
}